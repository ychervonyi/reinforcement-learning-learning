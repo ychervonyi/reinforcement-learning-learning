{
  "nbformat": 4,
  "nbformat_minor": 0,
  "metadata": {
    "colab": {
      "name": "racetrack_monte_carlo_chapter5_v3.ipynb",
      "provenance": [],
      "collapsed_sections": [],
      "authorship_tag": "ABX9TyMuHlEoDu+0xkPKDEn9t1to",
      "include_colab_link": true
    },
    "kernelspec": {
      "name": "python3",
      "display_name": "Python 3"
    }
  },
  "cells": [
    {
      "cell_type": "markdown",
      "metadata": {
        "id": "view-in-github",
        "colab_type": "text"
      },
      "source": [
        "<a href=\"https://colab.research.google.com/github/ychervonyi/reinforcement-learning-learning/blob/main/racetrack_monte_carlo_chapter5_v3.ipynb\" target=\"_parent\"><img src=\"https://colab.research.google.com/assets/colab-badge.svg\" alt=\"Open In Colab\"/></a>"
      ]
    },
    {
      "cell_type": "code",
      "metadata": {
        "id": "gMRc-0RVDUxU"
      },
      "source": [
        "import numpy as np\n",
        "from collections import Counter\n",
        "from matplotlib import pyplot\n",
        "from tqdm import tqdm\n",
        "\n",
        "np.random.seed(1231231)\n",
        "\n",
        "\n",
        "class Point:\n",
        "    def __init__(self, rr, cc):\n",
        "        self.y = rr\n",
        "        self.x = cc\n",
        "\n",
        "\n",
        "def collinear(p1, p2, p3):\n",
        "    \"\"\"\n",
        "    Return true iff p1, p2, and p3 all lie on the same line.\n",
        "    \"\"\"\n",
        "    return (p2.x - p1.x) * (p3.y - p1.y) == (p3.x - p1.x) * (p2.y - p1.y)\n",
        "\n",
        "\n",
        "def within(a, b, c):\n",
        "    \"\"\"\n",
        "    Return true iff b is between a and c (inclusive).\n",
        "    \"\"\"\n",
        "    return a <= b <= c or c <= b <= a\n",
        "\n",
        "\n",
        "class Segment:\n",
        "    def __init__(self, p1, p2):\n",
        "        self.p1 = p1\n",
        "        self.p2 = p2\n",
        "        self.A = p2.y - p1.y\n",
        "        self.B = p1.x - p2.x\n",
        "        self.C = self.A * p1.x + self.B * p1.y\n",
        "\n",
        "    def print(self):\n",
        "        print(f\"x1: {self.p1.x}, y1: {self.p1.y}\")\n",
        "        print(f\"x2: {self.p2.x}, y2: {self.p2.y}\")\n",
        "\n",
        "    def p_is_on(self, p):\n",
        "        return (collinear(self.p1, self.p2, p)\n",
        "                and (within(self.p1.x, p.x, self.p2.x) if self.p1.x != self.p2.x else\n",
        "                     within(self.p1.y, p.y, self.p2.y)))\n",
        "\n",
        "\n",
        "def segments_intersect(s1, s2):\n",
        "    A1, B1, C1 = s1.A, s1.B, s1.C\n",
        "    A2, B2, C2 = s2.A, s2.B, s2.C\n",
        "    det = A1 * B2 - A2 * B1\n",
        "    if det == 0:\n",
        "        return False\n",
        "    x = (B2 * C1 - B1 * C2) / det\n",
        "    y = (A1 * C2 - A2 * C1) / det\n",
        "\n",
        "    for s in (s1, s2):\n",
        "        x1, x2 = s.p1.x, s.p2.x\n",
        "        y1, y2 = s.p1.y, s.p2.y\n",
        "        if not (min(x1, x2) <= x <= max(x1, x2) and min(y1, y2) <= y <= max(y1, y2)):\n",
        "            return False\n",
        "    return True\n",
        "\n",
        "\n",
        "def compare_points(p1, p2):\n",
        "    return p1.x == p2.x and p1.y == p2.y\n",
        "\n",
        "\n",
        "def compare_segments(s1, s2):\n",
        "    return compare_points(s1.p1, s2.p1) and compare_points(s1.p2, s2.p2)\n",
        "\n",
        "\n",
        "class Environment:\n",
        "    def __init__(self):\n",
        "        self.build()\n",
        "\n",
        "    def build(self):\n",
        "        # NOTE: this is an ugly way to define the track geometry\n",
        "        # Here we define the track as a polygon\n",
        "        rows = 30\n",
        "        cols = 15\n",
        "\n",
        "        self.max_v, self.min_v = 5, 0\n",
        "        self.rows, self.cols = rows, cols\n",
        "        self.state_tuple = (rows, cols, self.max_v, self.max_v)\n",
        "\n",
        "        self.start_segment = Segment(Point(0, 0), Point(0, 10))\n",
        "        print(\"Start line:\")\n",
        "        self.start_segment.print()\n",
        "        self.finish_segment = Segment(Point(10, 15), Point(30, 15))\n",
        "        print(\"Finish line:\")\n",
        "        self.finish_segment.print()\n",
        "\n",
        "        # Define start points\n",
        "        self.start_points = []\n",
        "        r = 0\n",
        "        for c in range(1, 10):\n",
        "            self.start_points.append((r, c))\n",
        "\n",
        "        # Boundaries\n",
        "        points = [\n",
        "            Point(0, 0),\n",
        "            Point(0, 10),\n",
        "            Point(10, 10),\n",
        "            Point(10, 15),\n",
        "            Point(30, 15),\n",
        "            Point(30, 0)\n",
        "        ]\n",
        "\n",
        "        # Bounds should not have start and finish lines\n",
        "        self.bounds = []\n",
        "        for i in range(1, len(points)):\n",
        "            s = Segment(points[i - 1], points[i])\n",
        "            if compare_segments(s, self.finish_segment) or compare_segments(s, self.start_segment):\n",
        "                continue\n",
        "            print(f\"Adding boundary...\")\n",
        "            s.print()\n",
        "            self.bounds.append(s)\n",
        "\n",
        "        self.bounds.append(Segment(points[-1], points[0]))\n",
        "        print(f\"Adding boundary...\")\n",
        "        self.bounds[-1].print()\n",
        "\n",
        "        self.build_all_actions()\n",
        "\n",
        "    def build_all_actions(self):\n",
        "        dv = [-1, 0, 1]\n",
        "        n_dv = len(dv)\n",
        "        self.all_actions_map = {}\n",
        "        self.all_actions = []\n",
        "        for i, d_vr in enumerate(dv):\n",
        "            for j, d_vc in enumerate(dv):\n",
        "                self.all_actions.append((d_vr, d_vc))\n",
        "                self.all_actions_map[f\"{d_vr}_{d_vc}\"] = i * n_dv + j\n",
        "        self.n_actions = len(self.all_actions)\n",
        "\n",
        "    def is_good_velocity(self, vr_, vc_):\n",
        "        if (vr_, vc_) == (\n",
        "        self.min_v, self.min_v) or vr_ < self.min_v or vr_ >= self.max_v or vc_ < self.min_v or vc_ >= self.max_v:\n",
        "            return False\n",
        "        return True\n",
        "\n",
        "    def get_possible_action_indices(self, vr_, vc_):\n",
        "        \"\"\"\n",
        "        Get possible actions for current velocity `vr_, vc_`.\n",
        "        \"\"\"\n",
        "        # 9 actions for each state - increase, decrease or\n",
        "        # don't change velocity components\n",
        "\n",
        "        possible_actions_indicies = []\n",
        "        for d_vr, d_vc in self.all_actions:\n",
        "            if self.is_good_velocity(vr_ + d_vr, vc_ + d_vc):\n",
        "                possible_actions_indicies.append(self.all_actions_map[f\"{d_vr}_{d_vc}\"])\n",
        "        return possible_actions_indicies\n",
        "\n",
        "    def get_episode(self, policy_fn):\n",
        "        \"\"\"\n",
        "        Generate an episode.\n",
        "        \"\"\"\n",
        "        hits = 0\n",
        "        reward = -1\n",
        "        vr = vc = 0\n",
        "        r, c = self.start_points[np.random.randint(0, len(self.start_points))]\n",
        "        finish = False\n",
        "        history = []\n",
        "        while not finish:\n",
        "            d_vr, d_vc, prob = policy_fn(r, c, vr, vc)\n",
        "            new_vr, new_vc = vr + d_vr, vc + d_vc\n",
        "\n",
        "            assert not (new_vr == 0 and new_vc == 0 and (r, c) in self.start_points), f\"{new_vr} {new_vc} {r} {c}\"\n",
        "\n",
        "            # Check if the new path intersects finish line\n",
        "            # If yes we are done with this episode\n",
        "            new_path = Segment(Point(r, c), Point(r + new_vr, c + new_vc))\n",
        "            if segments_intersect(self.finish_segment, new_path):\n",
        "                history.append((r, c, vr, vc, d_vr, d_vc, 0, prob))\n",
        "                break\n",
        "\n",
        "            # Check if the path intersects boundaries\n",
        "            # If yes we move the car to the start line\n",
        "            hit = False\n",
        "            for bound in self.bounds:\n",
        "                if segments_intersect(bound, new_path):\n",
        "                    hit = True\n",
        "                    # TODO: Worse reward for hitting a boundary?\n",
        "                    history.append((r, c, vr, vc, d_vr, d_vc, -5, prob))\n",
        "                    hits += 1\n",
        "                    r, c = self.start_points[np.random.randint(0, len(self.start_points))]\n",
        "                    vr = vc = 0\n",
        "\n",
        "            # Update velocity and position if didn't hit a bound\n",
        "            if not hit:\n",
        "                history.append((r, c, vr, vc, d_vr, d_vc, -1, prob))\n",
        "                vr, vc = new_vr, new_vc\n",
        "                r += vr\n",
        "                c += vc\n",
        "        return history, hits\n",
        "\n",
        "    def plot_episode(self, history):\n",
        "        track = np.zeros((self.rows, self.cols))\n",
        "        pyplot.imshow(track)\n",
        "        for item in history:\n",
        "            # r, c, vr, vc, d_vr, d_vc, reward, p = item\n",
        "            pyplot.plot(item[1], item[0], '.r')\n",
        "        pyplot.show()\n",
        "\n",
        "    def print_episode(self, history):\n",
        "        \"\"\"\n",
        "        Follow `history` and print how many times in history\n",
        "        each cell was visited.\n",
        "        \"\"\"\n",
        "        track = np.zeros((self.rows, self.cols))\n",
        "        for item in history:\n",
        "            # r, c, vr, vc, d_vr, d_vc, reward, p = item\n",
        "            track[item[0], item[1]] += 1\n",
        "        return track.astype(\"int\")"
      ],
      "execution_count": 1,
      "outputs": []
    },
    {
      "cell_type": "code",
      "metadata": {
        "id": "EwtNOBzhDY8V"
      },
      "source": [
        "class Agent:\n",
        "    def __init__(self, env, epsilon=0.1):\n",
        "        self.env = env\n",
        "        # Value function\n",
        "        self.Q = np.random.uniform(\n",
        "            low=0,\n",
        "            high=self.env.n_actions,\n",
        "            size=self.env.state_tuple + (self.env.n_actions,)\n",
        "        )\n",
        "        # self.Q = np.zeros(self.env.state_tuple + (self.env.n_actions,))\n",
        "\n",
        "        # Cumulative sum of weights\n",
        "        self.C = np.zeros(self.env.state_tuple + (self.env.n_actions,))\n",
        "        # Policy\n",
        "        # self.policy = np.argmax(Q, axis=4)\n",
        "        # self.policy = np.zeros((rows, cols))\n",
        "        self.policy_init_value = -1\n",
        "        self.policy = np.full(self.env.state_tuple, self.policy_init_value)\n",
        "\n",
        "        self.epsilon = epsilon\n",
        "\n",
        "    def random_policy(self, r, c, vr, vc):\n",
        "        possible_action_indices = self.env.get_possible_action_indices(vr, vc)\n",
        "        assert not len(possible_action_indices) == 0, f\"No possible actions for {r, c, vr, vc}\"\n",
        "        prob = 1 / len(possible_action_indices)\n",
        "        a_index = np.random.choice(possible_action_indices)\n",
        "        return self.env.all_actions[a_index] + (prob, )\n",
        "\n",
        "    def soft_greedy_policy(self, r, c, vr, vc):\n",
        "        possible_action_indices = self.env.get_possible_action_indices(vr, vc)\n",
        "        assert not len(possible_action_indices) == 0, f\"No possible actions for {r, c, vr, vc}\"\n",
        "        prob = 1 / len(possible_action_indices)\n",
        "\n",
        "        if np.random.rand() > self.epsilon and self.policy[r, c, vr, vc] in possible_action_indices:\n",
        "            a_index = self.policy[r, c, vr, vc]\n",
        "        else:\n",
        "            a_index = np.random.choice(possible_action_indices)\n",
        "        return self.env.all_actions[a_index] + (prob, )\n",
        "\n",
        "    def greedy_policy(self, r, c, vr, vc):\n",
        "        possible_action_indices = self.env.get_possible_action_indices(vr, vc)\n",
        "        assert not len(possible_action_indices) == 0, f\"No possible actions for {r, c, vr, vc}\"\n",
        "        prob = 1 / len(possible_action_indices)\n",
        "\n",
        "        if self.policy[r, c, vr, vc] in possible_action_indices:\n",
        "            a_index = self.policy[r, c, vr, vc]\n",
        "        else:\n",
        "            a_index = np.random.choice(possible_action_indices)\n",
        "        return self.env.all_actions[a_index]+ (prob, )"
      ],
      "execution_count": 2,
      "outputs": []
    },
    {
      "cell_type": "code",
      "metadata": {
        "id": "a91HXgEzC-ur"
      },
      "source": [
        "class MonteCarlo:\n",
        "    def __init__(self, agent, env):\n",
        "        self.gamma = 1\n",
        "        self.agent = agent\n",
        "        self.env = env\n",
        "        self.n_elements = self.agent.policy.size\n",
        "\n",
        "    def learn_episode(self, history):\n",
        "        \"\"\"\n",
        "        Learn from an episode\n",
        "        \"\"\"\n",
        "        G = 0\n",
        "        W = 1\n",
        "        for i in range(len(history) - 1, -1, -1):\n",
        "            r, c, vr, vc, d_vr, d_vc, reward, prob = history[i]\n",
        "            a_index = self.env.all_actions_map[f\"{d_vr}_{d_vc}\"]\n",
        "            G = self.gamma * G + reward\n",
        "            self.agent.C[r, c, vr, vc, a_index] += W\n",
        "            self.agent.Q[r, c, vr, vc, a_index] += W / self.agent.C[r, c, vr, vc, a_index] * (\n",
        "                        G - self.agent.Q[r, c, vr, vc, a_index])\n",
        "            self.agent.policy[r, c, vr, vc] = np.argmax(self.agent.Q[r, c, vr, vc])\n",
        "\n",
        "            if self.agent.policy[r, c, vr, vc] != a_index:\n",
        "                break\n",
        "            W /= prob\n",
        "\n",
        "    def optimize(self, n_episodes):\n",
        "        steps_cnt = []\n",
        "\n",
        "        for ep in tqdm(range(n_episodes)):\n",
        "            if ep % 1000 == 0:\n",
        "                # Fraction of learned parameters in policy\n",
        "                frac_params = np.count_nonzero(self.agent.policy != self.agent.policy_init_value) / self.n_elements\n",
        "                print(f\"Episode: {ep},  policy: {round(frac_params * 100, 2)}%\")\n",
        "            hist, hits = self.env.get_episode(self.agent.random_policy)\n",
        "            steps_cnt.append(len(hist))\n",
        "            self.learn_episode(hist)"
      ],
      "execution_count": 19,
      "outputs": []
    },
    {
      "cell_type": "code",
      "metadata": {
        "id": "qpPtJm_bqYpn",
        "outputId": "cce9d3f5-f1f6-419d-f5de-46a3523ba836",
        "colab": {
          "base_uri": "https://localhost:8080/"
        }
      },
      "source": [
        "env = Environment()\n",
        "agent = Agent(env)\n",
        "mc = MonteCarlo(agent, env)"
      ],
      "execution_count": 20,
      "outputs": [
        {
          "output_type": "stream",
          "text": [
            "Start line:\n",
            "x1: 0, y1: 0\n",
            "x2: 10, y2: 0\n",
            "Finish line:\n",
            "x1: 15, y1: 10\n",
            "x2: 15, y2: 30\n",
            "Adding boundary...\n",
            "x1: 10, y1: 0\n",
            "x2: 10, y2: 10\n",
            "Adding boundary...\n",
            "x1: 10, y1: 10\n",
            "x2: 15, y2: 10\n",
            "Adding boundary...\n",
            "x1: 15, y1: 30\n",
            "x2: 0, y2: 30\n",
            "Adding boundary...\n",
            "x1: 0, y1: 30\n",
            "x2: 0, y2: 0\n"
          ],
          "name": "stdout"
        }
      ]
    },
    {
      "cell_type": "code",
      "metadata": {
        "id": "W1WRlkzNrR0c",
        "outputId": "47c7c2b2-e47c-4a06-bf0b-af65657d2155",
        "colab": {
          "base_uri": "https://localhost:8080/"
        }
      },
      "source": [
        "mc.optimize(20000)"
      ],
      "execution_count": 21,
      "outputs": [
        {
          "output_type": "stream",
          "text": [
            "  1%|          | 147/20000 [00:00<00:29, 664.14it/s]"
          ],
          "name": "stderr"
        },
        {
          "output_type": "stream",
          "text": [
            "Episode: 0,  policy: 0.0%\n"
          ],
          "name": "stdout"
        },
        {
          "output_type": "stream",
          "text": [
            "  6%|▌         | 1229/20000 [00:01<00:24, 769.90it/s]"
          ],
          "name": "stderr"
        },
        {
          "output_type": "stream",
          "text": [
            "Episode: 1000,  policy: 4.39%\n"
          ],
          "name": "stdout"
        },
        {
          "output_type": "stream",
          "text": [
            " 11%|█         | 2158/20000 [00:02<00:22, 793.28it/s]"
          ],
          "name": "stderr"
        },
        {
          "output_type": "stream",
          "text": [
            "Episode: 2000,  policy: 5.82%\n"
          ],
          "name": "stdout"
        },
        {
          "output_type": "stream",
          "text": [
            " 16%|█▌        | 3167/20000 [00:04<00:20, 834.84it/s]"
          ],
          "name": "stderr"
        },
        {
          "output_type": "stream",
          "text": [
            "Episode: 3000,  policy: 6.49%\n"
          ],
          "name": "stdout"
        },
        {
          "output_type": "stream",
          "text": [
            " 21%|██        | 4222/20000 [00:05<00:19, 829.66it/s]"
          ],
          "name": "stderr"
        },
        {
          "output_type": "stream",
          "text": [
            "Episode: 4000,  policy: 6.84%\n"
          ],
          "name": "stdout"
        },
        {
          "output_type": "stream",
          "text": [
            " 26%|██▌       | 5118/20000 [00:06<00:19, 779.21it/s]"
          ],
          "name": "stderr"
        },
        {
          "output_type": "stream",
          "text": [
            "Episode: 5000,  policy: 7.16%\n"
          ],
          "name": "stdout"
        },
        {
          "output_type": "stream",
          "text": [
            " 31%|███       | 6155/20000 [00:07<00:19, 705.22it/s]"
          ],
          "name": "stderr"
        },
        {
          "output_type": "stream",
          "text": [
            "Episode: 6000,  policy: 7.47%\n"
          ],
          "name": "stdout"
        },
        {
          "output_type": "stream",
          "text": [
            " 36%|███▌      | 7201/20000 [00:09<00:16, 781.91it/s]"
          ],
          "name": "stderr"
        },
        {
          "output_type": "stream",
          "text": [
            "Episode: 7000,  policy: 7.64%\n"
          ],
          "name": "stdout"
        },
        {
          "output_type": "stream",
          "text": [
            " 41%|████      | 8108/20000 [00:10<00:14, 808.75it/s]"
          ],
          "name": "stderr"
        },
        {
          "output_type": "stream",
          "text": [
            "Episode: 8000,  policy: 7.87%\n"
          ],
          "name": "stdout"
        },
        {
          "output_type": "stream",
          "text": [
            " 46%|████▌     | 9199/20000 [00:11<00:13, 778.29it/s]"
          ],
          "name": "stderr"
        },
        {
          "output_type": "stream",
          "text": [
            "Episode: 9000,  policy: 8.02%\n"
          ],
          "name": "stdout"
        },
        {
          "output_type": "stream",
          "text": [
            " 51%|█████     | 10218/20000 [00:13<00:13, 707.26it/s]"
          ],
          "name": "stderr"
        },
        {
          "output_type": "stream",
          "text": [
            "Episode: 10000,  policy: 8.25%\n"
          ],
          "name": "stdout"
        },
        {
          "output_type": "stream",
          "text": [
            " 55%|█████▌    | 11087/20000 [00:14<00:12, 737.13it/s]"
          ],
          "name": "stderr"
        },
        {
          "output_type": "stream",
          "text": [
            "Episode: 11000,  policy: 8.36%\n"
          ],
          "name": "stdout"
        },
        {
          "output_type": "stream",
          "text": [
            " 61%|██████    | 12149/20000 [00:15<00:10, 758.53it/s]"
          ],
          "name": "stderr"
        },
        {
          "output_type": "stream",
          "text": [
            "Episode: 12000,  policy: 8.51%\n"
          ],
          "name": "stdout"
        },
        {
          "output_type": "stream",
          "text": [
            " 66%|██████▌   | 13119/20000 [00:17<00:09, 759.62it/s]"
          ],
          "name": "stderr"
        },
        {
          "output_type": "stream",
          "text": [
            "Episode: 13000,  policy: 8.6%\n"
          ],
          "name": "stdout"
        },
        {
          "output_type": "stream",
          "text": [
            " 71%|███████   | 14203/20000 [00:18<00:07, 763.69it/s]"
          ],
          "name": "stderr"
        },
        {
          "output_type": "stream",
          "text": [
            "Episode: 14000,  policy: 8.76%\n"
          ],
          "name": "stdout"
        },
        {
          "output_type": "stream",
          "text": [
            " 76%|███████▌  | 15139/20000 [00:19<00:05, 819.14it/s]"
          ],
          "name": "stderr"
        },
        {
          "output_type": "stream",
          "text": [
            "Episode: 15000,  policy: 8.85%\n"
          ],
          "name": "stdout"
        },
        {
          "output_type": "stream",
          "text": [
            " 81%|████████  | 16203/20000 [00:20<00:04, 779.28it/s]"
          ],
          "name": "stderr"
        },
        {
          "output_type": "stream",
          "text": [
            "Episode: 16000,  policy: 8.98%\n"
          ],
          "name": "stdout"
        },
        {
          "output_type": "stream",
          "text": [
            " 86%|████████▌ | 17190/20000 [00:22<00:03, 704.31it/s]"
          ],
          "name": "stderr"
        },
        {
          "output_type": "stream",
          "text": [
            "Episode: 17000,  policy: 9.09%\n"
          ],
          "name": "stdout"
        },
        {
          "output_type": "stream",
          "text": [
            " 91%|█████████ | 18216/20000 [00:23<00:02, 807.32it/s]"
          ],
          "name": "stderr"
        },
        {
          "output_type": "stream",
          "text": [
            "Episode: 18000,  policy: 9.2%\n"
          ],
          "name": "stdout"
        },
        {
          "output_type": "stream",
          "text": [
            " 96%|█████████▌| 19114/20000 [00:24<00:01, 822.41it/s]"
          ],
          "name": "stderr"
        },
        {
          "output_type": "stream",
          "text": [
            "Episode: 19000,  policy: 9.29%\n"
          ],
          "name": "stdout"
        },
        {
          "output_type": "stream",
          "text": [
            "100%|██████████| 20000/20000 [00:26<00:00, 767.53it/s]\n"
          ],
          "name": "stderr"
        }
      ]
    },
    {
      "cell_type": "code",
      "metadata": {
        "id": "KFURqpyBvRsQ",
        "outputId": "bb93c5c1-23f0-4fab-c797-03e75d9e8b6c",
        "colab": {
          "base_uri": "https://localhost:8080/",
          "height": 284
        }
      },
      "source": [
        "history, hits = env.get_episode(agent.greedy_policy)\n",
        "print(f\"Number of steps: {len(history)}, number of hits: {hits}\")\n",
        "env.plot_episode(history)"
      ],
      "execution_count": 26,
      "outputs": [
        {
          "output_type": "stream",
          "text": [
            "Number of steps: 12, number of hits: 0\n"
          ],
          "name": "stdout"
        },
        {
          "output_type": "display_data",
          "data": {
            "image/png": "[encoded data removed]",
            "text/plain": [
              "<Figure size 432x288 with 1 Axes>"
            ]
          },
          "metadata": {
            "tags": [],
            "needs_background": "light"
          }
        }
      ]
    },
    {
      "cell_type": "code",
      "metadata": {
        "id": "5aOqAxhDJXQU",
        "outputId": "09e57438-65d9-427e-d19a-af66fe329675",
        "colab": {
          "base_uri": "https://localhost:8080/",
          "height": 284
        }
      },
      "source": [
        "history, hits = env.get_episode(agent.greedy_policy)\n",
        "print(f\"Number of steps: {len(history)}, number of hits: {hits}\")\n",
        "env.plot_episode(history)"
      ],
      "execution_count": 28,
      "outputs": [
        {
          "output_type": "stream",
          "text": [
            "Number of steps: 21, number of hits: 0\n"
          ],
          "name": "stdout"
        },
        {
          "output_type": "display_data",
          "data": {
            "image/png": "[encoded data removed]",
            "text/plain": [
              "<Figure size 432x288 with 1 Axes>"
            ]
          },
          "metadata": {
            "tags": [],
            "needs_background": "light"
          }
        }
      ]
    },
    {
      "cell_type": "code",
      "metadata": {
        "id": "VYRyLnc-_qki",
        "outputId": "7cefede1-5caa-4f6a-cdeb-7d34cc1f9d4f",
        "colab": {
          "base_uri": "https://localhost:8080/",
          "height": 284
        }
      },
      "source": [
        "history, hits = env.get_episode(agent.greedy_policy)\n",
        "print(f\"Number of steps: {len(history)}, number of hits: {hits}\")\n",
        "env.plot_episode(history)"
      ],
      "execution_count": 33,
      "outputs": [
        {
          "output_type": "stream",
          "text": [
            "Number of steps: 10, number of hits: 0\n"
          ],
          "name": "stdout"
        },
        {
          "output_type": "display_data",
          "data": {
            "image/png": "[encoded data removed]",
            "text/plain": [
              "<Figure size 432x288 with 1 Axes>"
            ]
          },
          "metadata": {
            "tags": [],
            "needs_background": "light"
          }
        }
      ]
    },
    {
      "cell_type": "code",
      "metadata": {
        "id": "aGes0yPX_s4E"
      },
      "source": [
        ""
      ],
      "execution_count": null,
      "outputs": []
    }
  ]
}