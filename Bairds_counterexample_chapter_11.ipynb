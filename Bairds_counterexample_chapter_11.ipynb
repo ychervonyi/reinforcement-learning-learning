{
  "nbformat": 4,
  "nbformat_minor": 0,
  "metadata": {
    "colab": {
      "name": "Bairds_counterexample_chapter_11.ipynb",
      "provenance": [],
      "authorship_tag": "ABX9TyN/ecLFAmvYlSl0GaJRwYeM",
      "include_colab_link": true
    },
    "kernelspec": {
      "name": "python3",
      "display_name": "Python 3"
    }
  },
  "cells": [
    {
      "cell_type": "markdown",
      "metadata": {
        "id": "view-in-github",
        "colab_type": "text"
      },
      "source": [
        "<a href=\"https://colab.research.google.com/github/ychervonyi/reinforcement-learning-learning/blob/main/Bairds_counterexample_chapter_11.ipynb\" target=\"_parent\"><img src=\"https://colab.research.google.com/assets/colab-badge.svg\" alt=\"Open In Colab\"/></a>"
      ]
    },
    {
      "cell_type": "markdown",
      "metadata": {
        "id": "0-dStBGqpeJG"
      },
      "source": [
        "Exercise 11.3 - Apply one step semi-gradient Q learning to Baird's counterexample and show empirically that its weights diverge."
      ]
    },
    {
      "cell_type": "code",
      "metadata": {
        "id": "WEAlw6x0Hagn"
      },
      "source": [
        "import numpy as np\n",
        "from matplotlib import pyplot as plt\n",
        "\n",
        "np.random.seed(12312321)\n",
        "\n",
        "N_STATES = 7\n",
        "\n",
        "\n",
        "class Env:\n",
        "    def __init__(self):\n",
        "        self.all_states = np.arange(N_STATES)\n",
        "\n",
        "    def get_state(self):\n",
        "        # Trivial enviroment - get a new state independent of a previous state\n",
        "        state_i = np.random.choice(ALL_STATES)\n",
        "        state = np.zeros(N_STATES)\n",
        "        state[state_i] = 1\n",
        "        return state\n",
        "\n",
        "\n",
        "class Agent:\n",
        "    def __init__(self, alpha):\n",
        "        self.gamma = 0.99\n",
        "        self.alpha = alpha\n",
        "        self.w = np.random.rand(N_STATES)\n",
        "        # self.w = np.random.randint(10, size=N_STATES).astype(\"float\")\n",
        "    \n",
        "    def value_func(self, state):\n",
        "        \"\"\"Linear approximation for state value function\"\"\"\n",
        "        return np.dot(self.w, state)\n",
        "    \n",
        "    def update_weights(self, state, next_state, r):\n",
        "        # Semi-gradient off policy update TD(0)\n",
        "        delta_t = r + self.gamma * self.value_func(next_state) - self.value_func(state)\n",
        "        \n",
        "        # Importance sampling\n",
        "        if next_state[N_STATES - 1] == 1:\n",
        "            b = 1 / 7\n",
        "            pi = 1\n",
        "        else:\n",
        "            b = 6 / 7\n",
        "            pi = 0\n",
        "        rho = pi / b\n",
        "        # rho = 1 # On-policy\n",
        "        grad = state # For linear function approximation\n",
        "        self.w += self.alpha * rho * delta_t * grad\n",
        "\n",
        "\n",
        "class LearnAgent:\n",
        "    def __init__(self, env, agent):\n",
        "        self.env = env\n",
        "        self.agent = agent\n",
        "        self.history_w = []\n",
        "    \n",
        "    def step(self):\n",
        "        \"\"\"\n",
        "        Episodic task under an uniform behavior policy:\n",
        "        1) start with a random state\n",
        "        2) transition into a random state\n",
        "        \"\"\"\n",
        "        initial_state = env.get_state()\n",
        "        next_state = env.get_state()\n",
        "        # Reward is always 0\n",
        "        self.agent.update_weights(initial_state, next_state, 0)\n",
        "        self.history_w.append(list(self.agent.w))"
      ],
      "execution_count": 36,
      "outputs": []
    },
    {
      "cell_type": "code",
      "metadata": {
        "id": "VEXjsxs4Vyu3"
      },
      "source": [
        "env = Env()\n",
        "agent = Agent(0.1)\n",
        "la = LearnAgent(env, agent)"
      ],
      "execution_count": 37,
      "outputs": []
    },
    {
      "cell_type": "code",
      "metadata": {
        "id": "WNnQCSZdXr-T"
      },
      "source": [
        "for _ in range(1000):\n",
        "    la.step()"
      ],
      "execution_count": 38,
      "outputs": []
    },
    {
      "cell_type": "code",
      "metadata": {
        "colab": {
          "base_uri": "https://localhost:8080/"
        },
        "id": "zFOHGkk1YpXC",
        "outputId": "d76bbeda-97a7-4868-e007-a4dcd5059c81"
      },
      "source": [
        "agent.w"
      ],
      "execution_count": 39,
      "outputs": [
        {
          "output_type": "execute_result",
          "data": {
            "text/plain": [
              "array([0.04983869, 0.05024277, 0.05040439, 0.04974579, 0.04989532,\n",
              "       0.05022246, 0.05024206])"
            ]
          },
          "metadata": {
            "tags": []
          },
          "execution_count": 39
        }
      ]
    },
    {
      "cell_type": "code",
      "metadata": {
        "colab": {
          "base_uri": "https://localhost:8080/",
          "height": 392
        },
        "id": "kYS06ploaKU-",
        "outputId": "43177fdd-b24c-4b16-fea1-990a453daa4a"
      },
      "source": [
        "plt.plot(la.history_w)"
      ],
      "execution_count": 40,
      "outputs": [
        {
          "output_type": "execute_result",
          "data": {
            "text/plain": [
              "[<matplotlib.lines.Line2D at 0x7f98d57230f0>,\n",
              " <matplotlib.lines.Line2D at 0x7f98d5723208>,\n",
              " <matplotlib.lines.Line2D at 0x7f98d5723358>,\n",
              " <matplotlib.lines.Line2D at 0x7f98d57234a8>,\n",
              " <matplotlib.lines.Line2D at 0x7f98d57235f8>,\n",
              " <matplotlib.lines.Line2D at 0x7f98d5723748>,\n",
              " <matplotlib.lines.Line2D at 0x7f98d5723898>]"
            ]
          },
          "metadata": {
            "tags": []
          },
          "execution_count": 40
        },
        {
          "output_type": "display_data",
          "data": {
            "image/png": "[encoded data removed]",
            "text/plain": [
              "<Figure size 432x288 with 1 Axes>"
            ]
          },
          "metadata": {
            "tags": [],
            "needs_background": "light"
          }
        }
      ]
    },
    {
      "cell_type": "markdown",
      "metadata": {
        "id": "FecEliQYpUoP"
      },
      "source": [
        "Seems like the weights converge... They also converge for on-policy learning (when rho=1) but to a different point."
      ]
    }
  ]
}