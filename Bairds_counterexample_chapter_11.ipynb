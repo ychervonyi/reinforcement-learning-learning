{
  "nbformat": 4,
  "nbformat_minor": 0,
  "metadata": {
    "colab": {
      "name": "Bairds_counterexample_chapter_11.ipynb",
      "provenance": [],
      "authorship_tag": "ABX9TyNGANqTwRAHaB+uY/pTv1qv",
      "include_colab_link": true
    },
    "kernelspec": {
      "name": "python3",
      "display_name": "Python 3"
    }
  },
  "cells": [
    {
      "cell_type": "markdown",
      "metadata": {
        "id": "view-in-github",
        "colab_type": "text"
      },
      "source": [
        "<a href=\"https://colab.research.google.com/github/ychervonyi/reinforcement-learning-learning/blob/main/Bairds_counterexample_chapter_11.ipynb\" target=\"_parent\"><img src=\"https://colab.research.google.com/assets/colab-badge.svg\" alt=\"Open In Colab\"/></a>"
      ]
    },
    {
      "cell_type": "markdown",
      "metadata": {
        "id": "0-dStBGqpeJG"
      },
      "source": [
        "Exercise 11.3 - Apply one step semi-gradient Q learning to Baird's counterexample and show empirically that its weights diverge."
      ]
    },
    {
      "cell_type": "code",
      "metadata": {
        "id": "WEAlw6x0Hagn"
      },
      "source": [
        "import numpy as np\n",
        "from matplotlib import pyplot as plt\n",
        "\n",
        "np.random.seed(12312321)\n",
        "\n",
        "N_STATES = 7\n",
        "\n",
        "class Env:\n",
        "    def __init__(self):\n",
        "        # Enumerate states\n",
        "        self.states = np.arange(N_STATES)\n",
        "        # Choose initial state randomly\n",
        "        self.state = np.zeros(N_STATES)\n",
        "        state_i = np.random.choice(self.states)\n",
        "        self.state[state_i] = 1\n",
        "    \n",
        "    def update_state(self):\n",
        "        # Behavior policy is uniform\n",
        "        state_i = np.random.choice(self.states)\n",
        "        self.state = np.zeros(N_STATES)\n",
        "        self.state[state_i] = 1\n",
        "    \n",
        "    def get_state(self):\n",
        "        return self.state\n",
        "\n",
        "class Agent:\n",
        "    def __init__(self, alpha):\n",
        "        self.gamma = 0.99\n",
        "        self.alpha = alpha\n",
        "        self.w = np.random.rand(N_STATES)\n",
        "        # self.w = np.random.randint(10, size=N_STATES).astype(\"float\")\n",
        "    \n",
        "    def value_func(self, state):\n",
        "        \"\"\"State value function\"\"\"\n",
        "        return np.dot(self.w, state)\n",
        "    \n",
        "    def update_weights(self, state, next_state, r):\n",
        "        delta_t = r + self.gamma * self.value_func(next_state) - self.value_func(state)\n",
        "        \n",
        "        # Importance sampling\n",
        "        if next_state[N_STATES - 1] == 1:\n",
        "            b = 1 / 7\n",
        "            pi = 1\n",
        "        else:\n",
        "            b = 6 / 7\n",
        "            pi = 0\n",
        "        rho = pi / b\n",
        "\n",
        "        grad = state # For linear function approximation\n",
        "        self.w += self.alpha * rho * delta_t * grad\n",
        "\n",
        "class LearnAgent:\n",
        "    def __init__(self, env, agent):\n",
        "        self.env = env\n",
        "        self.agent = agent\n",
        "        self.history_w = []\n",
        "    \n",
        "    def step(self):\n",
        "        s = self.env.get_state()\n",
        "        self.env.update_state()\n",
        "        next_s = self.env.get_state()\n",
        "        # Reward is always 0\n",
        "        self.agent.update_weights(s, next_s, 0)\n",
        "        self.history_w.append(list(self.agent.w))"
      ],
      "execution_count": 118,
      "outputs": []
    },
    {
      "cell_type": "code",
      "metadata": {
        "id": "VEXjsxs4Vyu3"
      },
      "source": [
        "env = Env()\n",
        "agent = Agent(0.1)\n",
        "la = LearnAgent(env, agent)"
      ],
      "execution_count": 119,
      "outputs": []
    },
    {
      "cell_type": "code",
      "metadata": {
        "id": "WNnQCSZdXr-T"
      },
      "source": [
        "for _ in range(1000):\n",
        "    la.step()"
      ],
      "execution_count": 120,
      "outputs": []
    },
    {
      "cell_type": "code",
      "metadata": {
        "colab": {
          "base_uri": "https://localhost:8080/"
        },
        "id": "zFOHGkk1YpXC",
        "outputId": "e82ca1a6-c5b1-4f3b-acac-e4cdbb35dc08"
      },
      "source": [
        "agent.w"
      ],
      "execution_count": 122,
      "outputs": [
        {
          "output_type": "execute_result",
          "data": {
            "text/plain": [
              "array([0.0705125 , 0.07051331, 0.0705205 , 0.07054004, 0.07052046,\n",
              "       0.07054049, 0.0712246 ])"
            ]
          },
          "metadata": {
            "tags": []
          },
          "execution_count": 122
        }
      ]
    },
    {
      "cell_type": "code",
      "metadata": {
        "colab": {
          "base_uri": "https://localhost:8080/",
          "height": 391
        },
        "id": "kYS06ploaKU-",
        "outputId": "aa2ac900-e9a3-451d-c168-37f9f140479c"
      },
      "source": [
        "plt.plot(la.history_w)"
      ],
      "execution_count": 123,
      "outputs": [
        {
          "output_type": "execute_result",
          "data": {
            "text/plain": [
              "[<matplotlib.lines.Line2D at 0x7fbd80e0aba8>,\n",
              " <matplotlib.lines.Line2D at 0x7fbd80e0acc0>,\n",
              " <matplotlib.lines.Line2D at 0x7fbd80e0ae10>,\n",
              " <matplotlib.lines.Line2D at 0x7fbd80e0af60>,\n",
              " <matplotlib.lines.Line2D at 0x7fbd80d960f0>,\n",
              " <matplotlib.lines.Line2D at 0x7fbd80d96240>,\n",
              " <matplotlib.lines.Line2D at 0x7fbd80d96390>]"
            ]
          },
          "metadata": {
            "tags": []
          },
          "execution_count": 123
        },
        {
          "output_type": "display_data",
          "data": {
            "image/png": "[encoded data removed]",
            "text/plain": [
              "<Figure size 432x288 with 1 Axes>"
            ]
          },
          "metadata": {
            "tags": [],
            "needs_background": "light"
          }
        }
      ]
    },
    {
      "cell_type": "markdown",
      "metadata": {
        "id": "FecEliQYpUoP"
      },
      "source": [
        "Seems like the weights converge..."
      ]
    }
  ]
}